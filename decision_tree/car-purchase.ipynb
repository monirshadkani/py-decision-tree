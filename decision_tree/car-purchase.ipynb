{
 "cells": [
  {
   "cell_type": "code",
   "execution_count": null,
   "id": "0b0337dc",
   "metadata": {},
   "outputs": [],
   "source": "import pandas as pd\nfrom sklearn.tree import DecisionTreeClassifier\nimport joblib\nfrom sklearn import tree\n\ndf = pd.read_csv('./data/car-purchase-decision.csv')\n\ndf['Gender'] = df['Gender'].replace({'Male': 1, 'Female':0}).astype('Int64')\n\n\n\nX = df.drop(columns=['Purchased'])\n\ny = df['Purchased']\n\n\nmodel = DecisionTreeClassifier()\nmodel.fit(X.values, y.values)\n\n#joblib.dump(model, 'music-recommander.joblib')\n\ntree.export_graphviz(\n    model,\n    out_file='car-purchase.dot',\n    feature_names=['Gender', 'Age', 'AnnualSalary', 'User ID'],\n    class_names=sorted(y.unique()),\n    label= 'all',\n    filled=True\n)"
  }
 ],
 "metadata": {
  "kernelspec": {
   "display_name": ".venv",
   "language": "python",
   "name": "python3"
  },
  "language_info": {
   "codemirror_mode": {
    "name": "ipython",
    "version": 3
   },
   "file_extension": ".py",
   "mimetype": "text/x-python",
   "name": "python",
   "nbconvert_exporter": "python",
   "pygments_lexer": "ipython3",
   "version": "3.13.1"
  }
 },
 "nbformat": 4,
 "nbformat_minor": 5
}